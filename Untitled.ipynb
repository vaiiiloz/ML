{
 "cells": [
  {
   "cell_type": "code",
   "execution_count": 1,
   "id": "fc97a420",
   "metadata": {},
   "outputs": [],
   "source": [
    "import pandas as pd\n",
    "import numpy as np\n",
    "import matplotlib as mpl\n",
    "import matplotlib.pyplot as plt\n",
    "import seaborn as sns\n",
    "import missingno as msno\n",
    "from difflib import SequenceMatcher\n",
    "from sklearn.feature_extraction.text import TfidfVectorizer\n",
    "from sklearn.feature_extraction.text import CountVectorizer\n",
    "from sklearn.metrics.pairwise import cosine_similarity"
   ]
  },
  {
   "cell_type": "code",
   "execution_count": 2,
   "id": "edc4b384",
   "metadata": {},
   "outputs": [
    {
     "name": "stderr",
     "output_type": "stream",
     "text": [
      "C:\\Users\\Acer\\anaconda3\\lib\\site-packages\\IPython\\core\\interactiveshell.py:3165: DtypeWarning: Columns (1) have mixed types.Specify dtype option on import or set low_memory=False.\n",
      "  has_raised = await self.run_ast_nodes(code_ast.body, cell_name,\n"
     ]
    },
    {
     "data": {
      "text/html": [
       "<div>\n",
       "<style scoped>\n",
       "    .dataframe tbody tr th:only-of-type {\n",
       "        vertical-align: middle;\n",
       "    }\n",
       "\n",
       "    .dataframe tbody tr th {\n",
       "        vertical-align: top;\n",
       "    }\n",
       "\n",
       "    .dataframe thead th {\n",
       "        text-align: right;\n",
       "    }\n",
       "</style>\n",
       "<table border=\"1\" class=\"dataframe\">\n",
       "  <thead>\n",
       "    <tr style=\"text-align: right;\">\n",
       "      <th></th>\n",
       "      <th>customer_id</th>\n",
       "      <th>gender</th>\n",
       "      <th>status_x</th>\n",
       "      <th>verified_x</th>\n",
       "      <th>created_at_x</th>\n",
       "      <th>updated_at_x</th>\n",
       "      <th>location_number</th>\n",
       "      <th>location_type</th>\n",
       "      <th>latitude_x</th>\n",
       "      <th>longitude_x</th>\n",
       "      <th>...</th>\n",
       "      <th>country_id</th>\n",
       "      <th>city_id</th>\n",
       "      <th>created_at_y</th>\n",
       "      <th>updated_at_y</th>\n",
       "      <th>device_type</th>\n",
       "      <th>display_orders</th>\n",
       "      <th>location_number_obj</th>\n",
       "      <th>id_obj</th>\n",
       "      <th>CID X LOC_NUM X VENDOR</th>\n",
       "      <th>target</th>\n",
       "    </tr>\n",
       "  </thead>\n",
       "  <tbody>\n",
       "    <tr>\n",
       "      <th>0</th>\n",
       "      <td>TCHWPBT</td>\n",
       "      <td>Male</td>\n",
       "      <td>1</td>\n",
       "      <td>1</td>\n",
       "      <td>2018-02-07 19:16:23</td>\n",
       "      <td>2018-02-07 19:16:23</td>\n",
       "      <td>0</td>\n",
       "      <td>Work</td>\n",
       "      <td>-96.44</td>\n",
       "      <td>-67.2</td>\n",
       "      <td>...</td>\n",
       "      <td>1.0</td>\n",
       "      <td>1.0</td>\n",
       "      <td>2018-01-30 14:42:04</td>\n",
       "      <td>2020-04-07 15:12:43</td>\n",
       "      <td>3</td>\n",
       "      <td>1</td>\n",
       "      <td>0</td>\n",
       "      <td>4</td>\n",
       "      <td>TCHWPBT X 0 X 4</td>\n",
       "      <td>0</td>\n",
       "    </tr>\n",
       "    <tr>\n",
       "      <th>1</th>\n",
       "      <td>TCHWPBT</td>\n",
       "      <td>Male</td>\n",
       "      <td>1</td>\n",
       "      <td>1</td>\n",
       "      <td>2018-02-07 19:16:23</td>\n",
       "      <td>2018-02-07 19:16:23</td>\n",
       "      <td>0</td>\n",
       "      <td>Work</td>\n",
       "      <td>-96.44</td>\n",
       "      <td>-67.2</td>\n",
       "      <td>...</td>\n",
       "      <td>1.0</td>\n",
       "      <td>1.0</td>\n",
       "      <td>2018-05-03 12:32:06</td>\n",
       "      <td>2020-04-05 20:46:03</td>\n",
       "      <td>3</td>\n",
       "      <td>1</td>\n",
       "      <td>0</td>\n",
       "      <td>13</td>\n",
       "      <td>TCHWPBT X 0 X 13</td>\n",
       "      <td>0</td>\n",
       "    </tr>\n",
       "    <tr>\n",
       "      <th>2</th>\n",
       "      <td>TCHWPBT</td>\n",
       "      <td>Male</td>\n",
       "      <td>1</td>\n",
       "      <td>1</td>\n",
       "      <td>2018-02-07 19:16:23</td>\n",
       "      <td>2018-02-07 19:16:23</td>\n",
       "      <td>0</td>\n",
       "      <td>Work</td>\n",
       "      <td>-96.44</td>\n",
       "      <td>-67.2</td>\n",
       "      <td>...</td>\n",
       "      <td>1.0</td>\n",
       "      <td>1.0</td>\n",
       "      <td>2018-05-04 22:28:22</td>\n",
       "      <td>2020-04-07 16:35:55</td>\n",
       "      <td>3</td>\n",
       "      <td>1</td>\n",
       "      <td>0</td>\n",
       "      <td>20</td>\n",
       "      <td>TCHWPBT X 0 X 20</td>\n",
       "      <td>0</td>\n",
       "    </tr>\n",
       "    <tr>\n",
       "      <th>3</th>\n",
       "      <td>TCHWPBT</td>\n",
       "      <td>Male</td>\n",
       "      <td>1</td>\n",
       "      <td>1</td>\n",
       "      <td>2018-02-07 19:16:23</td>\n",
       "      <td>2018-02-07 19:16:23</td>\n",
       "      <td>0</td>\n",
       "      <td>Work</td>\n",
       "      <td>-96.44</td>\n",
       "      <td>-67.2</td>\n",
       "      <td>...</td>\n",
       "      <td>1.0</td>\n",
       "      <td>1.0</td>\n",
       "      <td>2018-05-06 19:20:48</td>\n",
       "      <td>2020-04-02 00:56:17</td>\n",
       "      <td>3</td>\n",
       "      <td>1</td>\n",
       "      <td>0</td>\n",
       "      <td>23</td>\n",
       "      <td>TCHWPBT X 0 X 23</td>\n",
       "      <td>0</td>\n",
       "    </tr>\n",
       "    <tr>\n",
       "      <th>4</th>\n",
       "      <td>TCHWPBT</td>\n",
       "      <td>Male</td>\n",
       "      <td>1</td>\n",
       "      <td>1</td>\n",
       "      <td>2018-02-07 19:16:23</td>\n",
       "      <td>2018-02-07 19:16:23</td>\n",
       "      <td>0</td>\n",
       "      <td>Work</td>\n",
       "      <td>-96.44</td>\n",
       "      <td>-67.2</td>\n",
       "      <td>...</td>\n",
       "      <td>1.0</td>\n",
       "      <td>1.0</td>\n",
       "      <td>2018-05-17 22:12:38</td>\n",
       "      <td>2020-04-05 15:57:41</td>\n",
       "      <td>3</td>\n",
       "      <td>1</td>\n",
       "      <td>0</td>\n",
       "      <td>28</td>\n",
       "      <td>TCHWPBT X 0 X 28</td>\n",
       "      <td>0</td>\n",
       "    </tr>\n",
       "  </tbody>\n",
       "</table>\n",
       "<p>5 rows × 73 columns</p>\n",
       "</div>"
      ],
      "text/plain": [
       "  customer_id gender  status_x  verified_x         created_at_x  \\\n",
       "0     TCHWPBT   Male         1           1  2018-02-07 19:16:23   \n",
       "1     TCHWPBT   Male         1           1  2018-02-07 19:16:23   \n",
       "2     TCHWPBT   Male         1           1  2018-02-07 19:16:23   \n",
       "3     TCHWPBT   Male         1           1  2018-02-07 19:16:23   \n",
       "4     TCHWPBT   Male         1           1  2018-02-07 19:16:23   \n",
       "\n",
       "          updated_at_x  location_number location_type  latitude_x  \\\n",
       "0  2018-02-07 19:16:23                0          Work      -96.44   \n",
       "1  2018-02-07 19:16:23                0          Work      -96.44   \n",
       "2  2018-02-07 19:16:23                0          Work      -96.44   \n",
       "3  2018-02-07 19:16:23                0          Work      -96.44   \n",
       "4  2018-02-07 19:16:23                0          Work      -96.44   \n",
       "\n",
       "   longitude_x  ...  country_id  city_id         created_at_y  \\\n",
       "0        -67.2  ...         1.0      1.0  2018-01-30 14:42:04   \n",
       "1        -67.2  ...         1.0      1.0  2018-05-03 12:32:06   \n",
       "2        -67.2  ...         1.0      1.0  2018-05-04 22:28:22   \n",
       "3        -67.2  ...         1.0      1.0  2018-05-06 19:20:48   \n",
       "4        -67.2  ...         1.0      1.0  2018-05-17 22:12:38   \n",
       "\n",
       "          updated_at_y device_type  display_orders  location_number_obj  \\\n",
       "0  2020-04-07 15:12:43           3               1                    0   \n",
       "1  2020-04-05 20:46:03           3               1                    0   \n",
       "2  2020-04-07 16:35:55           3               1                    0   \n",
       "3  2020-04-02 00:56:17           3               1                    0   \n",
       "4  2020-04-05 15:57:41           3               1                    0   \n",
       "\n",
       "   id_obj  CID X LOC_NUM X VENDOR target  \n",
       "0       4         TCHWPBT X 0 X 4      0  \n",
       "1      13        TCHWPBT X 0 X 13      0  \n",
       "2      20        TCHWPBT X 0 X 20      0  \n",
       "3      23        TCHWPBT X 0 X 23      0  \n",
       "4      28        TCHWPBT X 0 X 28      0  \n",
       "\n",
       "[5 rows x 73 columns]"
      ]
     },
     "execution_count": 2,
     "metadata": {},
     "output_type": "execute_result"
    }
   ],
   "source": [
    "#load data\n",
    "data1=pd.read_csv(r\"E:\\archive\\train_full.csv\")\n",
    "data1.head()\n"
   ]
  },
  {
   "cell_type": "code",
   "execution_count": 3,
   "id": "4caad879",
   "metadata": {},
   "outputs": [
    {
     "name": "stdout",
     "output_type": "stream",
     "text": [
      "<class 'pandas.core.frame.DataFrame'>\n",
      "RangeIndex: 5802400 entries, 0 to 5802399\n",
      "Data columns (total 73 columns):\n",
      " #   Column                  Dtype  \n",
      "---  ------                  -----  \n",
      " 0   customer_id             object \n",
      " 1   gender                  object \n",
      " 2   status_x                int64  \n",
      " 3   verified_x              int64  \n",
      " 4   created_at_x            object \n",
      " 5   updated_at_x            object \n",
      " 6   location_number         int64  \n",
      " 7   location_type           object \n",
      " 8   latitude_x              float64\n",
      " 9   longitude_x             float64\n",
      " 10  id                      int64  \n",
      " 11  authentication_id       float64\n",
      " 12  latitude_y              float64\n",
      " 13  longitude_y             float64\n",
      " 14  vendor_category_en      object \n",
      " 15  vendor_category_id      float64\n",
      " 16  delivery_charge         float64\n",
      " 17  serving_distance        float64\n",
      " 18  is_open                 float64\n",
      " 19  OpeningTime             object \n",
      " 20  OpeningTime2            object \n",
      " 21  prepration_time         int64  \n",
      " 22  commission              float64\n",
      " 23  is_akeed_delivering     object \n",
      " 24  discount_percentage     float64\n",
      " 25  status_y                float64\n",
      " 26  verified_y              int64  \n",
      " 27  rank                    int64  \n",
      " 28  language                object \n",
      " 29  vendor_rating           float64\n",
      " 30  sunday_from_time1       object \n",
      " 31  sunday_to_time1         object \n",
      " 32  sunday_from_time2       object \n",
      " 33  sunday_to_time2         object \n",
      " 34  monday_from_time1       object \n",
      " 35  monday_to_time1         object \n",
      " 36  monday_from_time2       object \n",
      " 37  monday_to_time2         object \n",
      " 38  tuesday_from_time1      object \n",
      " 39  tuesday_to_time1        object \n",
      " 40  tuesday_from_time2      object \n",
      " 41  tuesday_to_time2        object \n",
      " 42  wednesday_from_time1    object \n",
      " 43  wednesday_to_time1      object \n",
      " 44  wednesday_from_time2    object \n",
      " 45  wednesday_to_time2      object \n",
      " 46  thursday_from_time1     object \n",
      " 47  thursday_to_time1       object \n",
      " 48  thursday_from_time2     object \n",
      " 49  thursday_to_time2       object \n",
      " 50  friday_from_time1       object \n",
      " 51  friday_to_time1         object \n",
      " 52  friday_from_time2       object \n",
      " 53  friday_to_time2         object \n",
      " 54  saturday_from_time1     object \n",
      " 55  saturday_to_time1       object \n",
      " 56  saturday_from_time2     object \n",
      " 57  saturday_to_time2       object \n",
      " 58  primary_tags            object \n",
      " 59  open_close_flags        float64\n",
      " 60  vendor_tag              object \n",
      " 61  vendor_tag_name         object \n",
      " 62  one_click_vendor        object \n",
      " 63  country_id              float64\n",
      " 64  city_id                 float64\n",
      " 65  created_at_y            object \n",
      " 66  updated_at_y            object \n",
      " 67  device_type             int64  \n",
      " 68  display_orders          int64  \n",
      " 69  location_number_obj     int64  \n",
      " 70  id_obj                  int64  \n",
      " 71  CID X LOC_NUM X VENDOR  object \n",
      " 72  target                  int64  \n",
      "dtypes: float64(16), int64(12), object(45)\n",
      "memory usage: 3.2+ GB\n"
     ]
    }
   ],
   "source": [
    "data1.info()"
   ]
  },
  {
   "cell_type": "code",
   "execution_count": 4,
   "id": "494d7c63",
   "metadata": {},
   "outputs": [
    {
     "name": "stderr",
     "output_type": "stream",
     "text": [
      "C:\\Users\\Acer\\anaconda3\\lib\\site-packages\\seaborn\\_decorators.py:36: FutureWarning: Pass the following variable as a keyword arg: x. From version 0.12, the only valid positional argument will be `data`, and passing other arguments without an explicit keyword will result in an error or misinterpretation.\n",
      "  warnings.warn(\n"
     ]
    },
    {
     "data": {
      "text/plain": [
       "<AxesSubplot:xlabel='gender', ylabel='count'>"
      ]
     },
     "execution_count": 4,
     "metadata": {},
     "output_type": "execute_result"
    },
    {
     "data": {
      "image/png": "[encoded data removed]",
      "text/plain": [
       "<Figure size 432x288 with 1 Axes>"
      ]
     },
     "metadata": {
      "needs_background": "light"
     },
     "output_type": "display_data"
    }
   ],
   "source": [
    "sns.countplot('gender',data=data1)"
   ]
  },
  {
   "cell_type": "code",
   "execution_count": 5,
   "id": "f13368dc",
   "metadata": {},
   "outputs": [
    {
     "name": "stderr",
     "output_type": "stream",
     "text": [
      "C:\\Users\\Acer\\anaconda3\\lib\\site-packages\\seaborn\\_decorators.py:36: FutureWarning: Pass the following variable as a keyword arg: x. From version 0.12, the only valid positional argument will be `data`, and passing other arguments without an explicit keyword will result in an error or misinterpretation.\n",
      "  warnings.warn(\n"
     ]
    },
    {
     "data": {
      "text/plain": [
       "<AxesSubplot:xlabel='vendor_rating', ylabel='count'>"
      ]
     },
     "execution_count": 5,
     "metadata": {},
     "output_type": "execute_result"
    },
    {
     "data": {
      "image/png": "[encoded data removed]",
      "text/plain": [
       "<Figure size 432x288 with 1 Axes>"
      ]
     },
     "metadata": {
      "needs_background": "light"
     },
     "output_type": "display_data"
    }
   ],
   "source": [
    "sns.countplot('vendor_rating',data=data1)"
   ]
  },
  {
   "cell_type": "code",
   "execution_count": 6,
   "id": "3c667c8a",
   "metadata": {},
   "outputs": [
    {
     "name": "stderr",
     "output_type": "stream",
     "text": [
      "C:\\Users\\Acer\\anaconda3\\lib\\site-packages\\IPython\\core\\interactiveshell.py:3165: DtypeWarning: Columns (15,16,18,19,20) have mixed types.Specify dtype option on import or set low_memory=False.\n",
      "  has_raised = await self.run_ast_nodes(code_ast.body, cell_name,\n"
     ]
    },
    {
     "data": {
      "text/html": [
       "<div>\n",
       "<style scoped>\n",
       "    .dataframe tbody tr th:only-of-type {\n",
       "        vertical-align: middle;\n",
       "    }\n",
       "\n",
       "    .dataframe tbody tr th {\n",
       "        vertical-align: top;\n",
       "    }\n",
       "\n",
       "    .dataframe thead th {\n",
       "        text-align: right;\n",
       "    }\n",
       "</style>\n",
       "<table border=\"1\" class=\"dataframe\">\n",
       "  <thead>\n",
       "    <tr style=\"text-align: right;\">\n",
       "      <th></th>\n",
       "      <th>akeed_order_id</th>\n",
       "      <th>customer_id</th>\n",
       "      <th>item_count</th>\n",
       "      <th>grand_total</th>\n",
       "      <th>payment_mode</th>\n",
       "      <th>promo_code</th>\n",
       "      <th>vendor_discount_amount</th>\n",
       "      <th>promo_code_discount_percentage</th>\n",
       "      <th>is_favorite</th>\n",
       "      <th>is_rated</th>\n",
       "      <th>...</th>\n",
       "      <th>driver_accepted_time</th>\n",
       "      <th>ready_for_pickup_time</th>\n",
       "      <th>picked_up_time</th>\n",
       "      <th>delivered_time</th>\n",
       "      <th>delivery_date</th>\n",
       "      <th>vendor_id</th>\n",
       "      <th>created_at</th>\n",
       "      <th>LOCATION_NUMBER</th>\n",
       "      <th>LOCATION_TYPE</th>\n",
       "      <th>CID X LOC_NUM X VENDOR</th>\n",
       "    </tr>\n",
       "  </thead>\n",
       "  <tbody>\n",
       "    <tr>\n",
       "      <th>0</th>\n",
       "      <td>163238.0</td>\n",
       "      <td>92PEE24</td>\n",
       "      <td>1.0</td>\n",
       "      <td>7.6</td>\n",
       "      <td>2</td>\n",
       "      <td>NaN</td>\n",
       "      <td>0.0</td>\n",
       "      <td>NaN</td>\n",
       "      <td>NaN</td>\n",
       "      <td>No</td>\n",
       "      <td>...</td>\n",
       "      <td>NaN</td>\n",
       "      <td>NaN</td>\n",
       "      <td>NaN</td>\n",
       "      <td>NaN</td>\n",
       "      <td>2019-07-31 05:30:00</td>\n",
       "      <td>105</td>\n",
       "      <td>2019-08-01 05:30:16</td>\n",
       "      <td>0</td>\n",
       "      <td>NaN</td>\n",
       "      <td>92PEE24 X 0 X 105</td>\n",
       "    </tr>\n",
       "    <tr>\n",
       "      <th>1</th>\n",
       "      <td>163240.0</td>\n",
       "      <td>QS68UD8</td>\n",
       "      <td>1.0</td>\n",
       "      <td>8.7</td>\n",
       "      <td>1</td>\n",
       "      <td>NaN</td>\n",
       "      <td>0.0</td>\n",
       "      <td>NaN</td>\n",
       "      <td>NaN</td>\n",
       "      <td>No</td>\n",
       "      <td>...</td>\n",
       "      <td>NaN</td>\n",
       "      <td>NaN</td>\n",
       "      <td>NaN</td>\n",
       "      <td>NaN</td>\n",
       "      <td>2019-07-31 05:30:00</td>\n",
       "      <td>294</td>\n",
       "      <td>2019-08-01 05:31:10</td>\n",
       "      <td>0</td>\n",
       "      <td>Work</td>\n",
       "      <td>QS68UD8 X 0 X 294</td>\n",
       "    </tr>\n",
       "    <tr>\n",
       "      <th>2</th>\n",
       "      <td>163241.0</td>\n",
       "      <td>MB7VY5F</td>\n",
       "      <td>2.0</td>\n",
       "      <td>14.4</td>\n",
       "      <td>1</td>\n",
       "      <td>NaN</td>\n",
       "      <td>0.0</td>\n",
       "      <td>NaN</td>\n",
       "      <td>NaN</td>\n",
       "      <td>No</td>\n",
       "      <td>...</td>\n",
       "      <td>NaN</td>\n",
       "      <td>NaN</td>\n",
       "      <td>NaN</td>\n",
       "      <td>NaN</td>\n",
       "      <td>2019-07-31 05:30:00</td>\n",
       "      <td>83</td>\n",
       "      <td>2019-08-01 05:31:33</td>\n",
       "      <td>0</td>\n",
       "      <td>NaN</td>\n",
       "      <td>MB7VY5F X 0 X 83</td>\n",
       "    </tr>\n",
       "    <tr>\n",
       "      <th>3</th>\n",
       "      <td>163244.0</td>\n",
       "      <td>KDJ951Y</td>\n",
       "      <td>1.0</td>\n",
       "      <td>7.1</td>\n",
       "      <td>1</td>\n",
       "      <td>NaN</td>\n",
       "      <td>0.0</td>\n",
       "      <td>NaN</td>\n",
       "      <td>NaN</td>\n",
       "      <td>No</td>\n",
       "      <td>...</td>\n",
       "      <td>NaN</td>\n",
       "      <td>NaN</td>\n",
       "      <td>NaN</td>\n",
       "      <td>NaN</td>\n",
       "      <td>2019-07-31 05:30:00</td>\n",
       "      <td>90</td>\n",
       "      <td>2019-08-01 05:34:54</td>\n",
       "      <td>0</td>\n",
       "      <td>Home</td>\n",
       "      <td>KDJ951Y X 0 X 90</td>\n",
       "    </tr>\n",
       "    <tr>\n",
       "      <th>4</th>\n",
       "      <td>163245.0</td>\n",
       "      <td>BAL0RVT</td>\n",
       "      <td>4.0</td>\n",
       "      <td>27.2</td>\n",
       "      <td>1</td>\n",
       "      <td>NaN</td>\n",
       "      <td>0.0</td>\n",
       "      <td>NaN</td>\n",
       "      <td>NaN</td>\n",
       "      <td>No</td>\n",
       "      <td>...</td>\n",
       "      <td>NaN</td>\n",
       "      <td>NaN</td>\n",
       "      <td>NaN</td>\n",
       "      <td>NaN</td>\n",
       "      <td>2019-07-31 05:30:00</td>\n",
       "      <td>83</td>\n",
       "      <td>2019-08-01 05:35:51</td>\n",
       "      <td>0</td>\n",
       "      <td>Work</td>\n",
       "      <td>BAL0RVT X 0 X 83</td>\n",
       "    </tr>\n",
       "  </tbody>\n",
       "</table>\n",
       "<p>5 rows × 26 columns</p>\n",
       "</div>"
      ],
      "text/plain": [
       "   akeed_order_id customer_id  item_count  grand_total  payment_mode  \\\n",
       "0        163238.0     92PEE24         1.0          7.6             2   \n",
       "1        163240.0     QS68UD8         1.0          8.7             1   \n",
       "2        163241.0     MB7VY5F         2.0         14.4             1   \n",
       "3        163244.0     KDJ951Y         1.0          7.1             1   \n",
       "4        163245.0     BAL0RVT         4.0         27.2             1   \n",
       "\n",
       "  promo_code  vendor_discount_amount  promo_code_discount_percentage  \\\n",
       "0        NaN                     0.0                             NaN   \n",
       "1        NaN                     0.0                             NaN   \n",
       "2        NaN                     0.0                             NaN   \n",
       "3        NaN                     0.0                             NaN   \n",
       "4        NaN                     0.0                             NaN   \n",
       "\n",
       "  is_favorite is_rated  ...  driver_accepted_time  ready_for_pickup_time  \\\n",
       "0         NaN       No  ...                   NaN                    NaN   \n",
       "1         NaN       No  ...                   NaN                    NaN   \n",
       "2         NaN       No  ...                   NaN                    NaN   \n",
       "3         NaN       No  ...                   NaN                    NaN   \n",
       "4         NaN       No  ...                   NaN                    NaN   \n",
       "\n",
       "   picked_up_time  delivered_time        delivery_date vendor_id  \\\n",
       "0             NaN             NaN  2019-07-31 05:30:00       105   \n",
       "1             NaN             NaN  2019-07-31 05:30:00       294   \n",
       "2             NaN             NaN  2019-07-31 05:30:00        83   \n",
       "3             NaN             NaN  2019-07-31 05:30:00        90   \n",
       "4             NaN             NaN  2019-07-31 05:30:00        83   \n",
       "\n",
       "            created_at LOCATION_NUMBER LOCATION_TYPE CID X LOC_NUM X VENDOR  \n",
       "0  2019-08-01 05:30:16               0           NaN      92PEE24 X 0 X 105  \n",
       "1  2019-08-01 05:31:10               0          Work      QS68UD8 X 0 X 294  \n",
       "2  2019-08-01 05:31:33               0           NaN       MB7VY5F X 0 X 83  \n",
       "3  2019-08-01 05:34:54               0          Home       KDJ951Y X 0 X 90  \n",
       "4  2019-08-01 05:35:51               0          Work       BAL0RVT X 0 X 83  \n",
       "\n",
       "[5 rows x 26 columns]"
      ]
     },
     "execution_count": 6,
     "metadata": {},
     "output_type": "execute_result"
    }
   ],
   "source": [
    "data2 = pd.read_csv(r\"E:\\archive\\orders.csv\")\n",
    "data2.head()"
   ]
  },
  {
   "cell_type": "code",
   "execution_count": 7,
   "id": "ede9afb2",
   "metadata": {},
   "outputs": [
    {
     "name": "stdout",
     "output_type": "stream",
     "text": [
      "<class 'pandas.core.frame.DataFrame'>\n",
      "RangeIndex: 135303 entries, 0 to 135302\n",
      "Data columns (total 26 columns):\n",
      " #   Column                          Non-Null Count   Dtype  \n",
      "---  ------                          --------------   -----  \n",
      " 0   akeed_order_id                  135233 non-null  float64\n",
      " 1   customer_id                     135303 non-null  object \n",
      " 2   item_count                      128378 non-null  float64\n",
      " 3   grand_total                     135303 non-null  float64\n",
      " 4   payment_mode                    135303 non-null  int64  \n",
      " 5   promo_code                      4305 non-null    object \n",
      " 6   vendor_discount_amount          135303 non-null  float64\n",
      " 7   promo_code_discount_percentage  65880 non-null   float64\n",
      " 8   is_favorite                     100108 non-null  object \n",
      " 9   is_rated                        135303 non-null  object \n",
      " 10  vendor_rating                   45220 non-null   float64\n",
      " 11  driver_rating                   135303 non-null  float64\n",
      " 12  deliverydistance                135303 non-null  float64\n",
      " 13  preparationtime                 79743 non-null   float64\n",
      " 14  delivery_time                   5123 non-null    object \n",
      " 15  order_accepted_time             86955 non-null   object \n",
      " 16  driver_accepted_time            46458 non-null   object \n",
      " 17  ready_for_pickup_time           84249 non-null   object \n",
      " 18  picked_up_time                  83865 non-null   object \n",
      " 19  delivered_time                  85741 non-null   object \n",
      " 20  delivery_date                   35544 non-null   object \n",
      " 21  vendor_id                       135303 non-null  int64  \n",
      " 22  created_at                      135303 non-null  object \n",
      " 23  LOCATION_NUMBER                 135303 non-null  int64  \n",
      " 24  LOCATION_TYPE                   86410 non-null   object \n",
      " 25  CID X LOC_NUM X VENDOR          135303 non-null  object \n",
      "dtypes: float64(9), int64(3), object(14)\n",
      "memory usage: 26.8+ MB\n"
     ]
    }
   ],
   "source": [
    "data2.info()"
   ]
  },
  {
   "cell_type": "code",
   "execution_count": 8,
   "id": "23e59278",
   "metadata": {},
   "outputs": [
    {
     "name": "stderr",
     "output_type": "stream",
     "text": [
      "C:\\Users\\Acer\\anaconda3\\lib\\site-packages\\seaborn\\_decorators.py:36: FutureWarning: Pass the following variable as a keyword arg: x. From version 0.12, the only valid positional argument will be `data`, and passing other arguments without an explicit keyword will result in an error or misinterpretation.\n",
      "  warnings.warn(\n"
     ]
    },
    {
     "data": {
      "text/plain": [
       "<AxesSubplot:xlabel='is_rated', ylabel='count'>"
      ]
     },
     "execution_count": 8,
     "metadata": {},
     "output_type": "execute_result"
    },
    {
     "data": {
      "image/png": "[encoded data removed]",
      "text/plain": [
       "<Figure size 432x288 with 1 Axes>"
      ]
     },
     "metadata": {
      "needs_background": "light"
     },
     "output_type": "display_data"
    }
   ],
   "source": [
    "sns.countplot('is_rated',data=data2)"
   ]
  },
  {
   "cell_type": "code",
   "execution_count": 9,
   "id": "80b25d1c",
   "metadata": {
    "scrolled": true
   },
   "outputs": [
    {
     "name": "stdout",
     "output_type": "stream",
     "text": [
      "5.0    14212\n",
      "4.0     2748\n",
      "3.0     1426\n",
      "1.0     1029\n",
      "2.0      630\n",
      "0.0       64\n",
      "Name: vendor_rating, dtype: int64\n",
      "0\n"
     ]
    }
   ],
   "source": [
    "#Rating\n",
    "\n",
    "count_rating_df = data2[data2['is_rated'] == 'Yes']['vendor_rating']\n",
    "count_rating = count_rating_df.value_counts()\n",
    "print(count_rating_df.value_counts())\n",
    "null = np.count_nonzero(count_rating_df.isnull())\n",
    "print(null)"
   ]
  },
  {
   "cell_type": "code",
   "execution_count": 10,
   "id": "411816cb",
   "metadata": {},
   "outputs": [
    {
     "data": {
      "text/plain": [
       "<AxesSubplot:>"
      ]
     },
     "execution_count": 10,
     "metadata": {},
     "output_type": "execute_result"
    },
    {
     "data": {
      "image/png": "[encoded data removed]",
      "text/plain": [
       "<Figure size 432x288 with 1 Axes>"
      ]
     },
     "metadata": {
      "needs_background": "light"
     },
     "output_type": "display_data"
    }
   ],
   "source": [
    "sns.barplot(x= count_rating.index, y=count_rating.values)"
   ]
  },
  {
   "cell_type": "code",
   "execution_count": null,
   "id": "dd9b9002",
   "metadata": {},
   "outputs": [
    {
     "name": "stderr",
     "output_type": "stream",
     "text": [
      "C:\\Users\\Acer\\anaconda3\\lib\\site-packages\\pandas\\core\\frame.py:4441: SettingWithCopyWarning: \n",
      "A value is trying to be set on a copy of a slice from a DataFrame\n",
      "\n",
      "See the caveats in the documentation: https://pandas.pydata.org/pandas-docs/stable/user_guide/indexing.html#returning-a-view-versus-a-copy\n",
      "  return super().rename(\n"
     ]
    }
   ],
   "source": [
    "dataset1 = data1[['customer_id','gender','location_type','id','OpeningTime','language','vendor_rating','serving_distance','vendor_tag_name','delivery_charge']]\n",
    "dataset1.rename(columns = {\"vendor_rating\": \"mean_rating\"}, inplace = True)\n",
    "\n",
    "# Make derived variables 'all' with id and customer_id columns\n",
    "cols = ['customer_id', 'id']\n",
    "dataset1['all'] = dataset1[cols].apply(lambda row: '_'.join(row.values.astype(str)), axis=1)\n",
    "\n",
    "dataset1.head()"
   ]
  },
  {
   "cell_type": "code",
   "execution_count": null,
   "id": "d2dc5847",
   "metadata": {},
   "outputs": [],
   "source": [
    "dataset1.drop_duplicates(['all'],inplace=True)"
   ]
  },
  {
   "cell_type": "code",
   "execution_count": null,
   "id": "d083f667",
   "metadata": {},
   "outputs": [],
   "source": [
    "dataset2 = data2[['akeed_order_id','customer_id','vendor_id', 'item_count', 'grand_total', 'vendor_rating']][:]\n",
    "dataset2.rename(columns = {\"vendor_id\": \"id\"}, inplace = True)\n",
    "\n",
    "# Make derived variables 'all' with id and customer_id columns\n",
    "cols = ['customer_id', 'id']\n",
    "dataset2['all'] = dataset2[cols].apply(lambda row: '_'.join(row.values.astype(str)), axis=1)\n",
    "\n",
    "dataset2.head()"
   ]
  },
  {
   "cell_type": "code",
   "execution_count": null,
   "id": "1c95b6ae",
   "metadata": {},
   "outputs": [],
   "source": [
    "df1=pd.merge(dataset1,dataset2,on='all',how='inner')\n",
    "df1.head()"
   ]
  },
  {
   "cell_type": "code",
   "execution_count": null,
   "id": "95120a3c",
   "metadata": {},
   "outputs": [],
   "source": [
    "df1.rename(columns = {\"customer_id_x\": \"customer_id\"}, inplace = True)\n",
    "df1.rename(columns = {\"id_x\": \"vendor_id\"}, inplace = True)\n",
    "df1.drop(['customer_id_y','id_y'],axis=1,inplace=True)"
   ]
  },
  {
   "cell_type": "code",
   "execution_count": null,
   "id": "a8bdf5f1",
   "metadata": {},
   "outputs": [],
   "source": [
    "df1.rename(columns={'vendor_rating': 'rating'}, inplace=True)"
   ]
  },
  {
   "cell_type": "code",
   "execution_count": null,
   "id": "eb4f022c",
   "metadata": {},
   "outputs": [],
   "source": [
    "df1_train_for_anal = df1[:]"
   ]
  },
  {
   "cell_type": "markdown",
   "id": "cb4e6253",
   "metadata": {},
   "source": [
    "# Collaborative Filtering"
   ]
  },
  {
   "cell_type": "code",
   "execution_count": null,
   "id": "be621e44",
   "metadata": {
    "scrolled": true
   },
   "outputs": [],
   "source": [
    "cus_ven_ratings = df1_train_for_anal[['customer_id', 'vendor_id', 'rating']]\n",
    "cus_ven_ratings"
   ]
  },
  {
   "cell_type": "code",
   "execution_count": null,
   "id": "20f85b18",
   "metadata": {},
   "outputs": [],
   "source": [
    "# Calculate mean rating by only valid ratings(except missing and rated zero)\n",
    "ratings_not_none = []\n",
    "\n",
    "for i in range(0, cus_ven_ratings.shape[0]-1) :\n",
    "  if pd.isnull(cus_ven_ratings.iloc[i][2]) == False and cus_ven_ratings.iloc[i][2] != 0 :\n",
    "    ratings_not_none.append(cus_ven_ratings.iloc[i][2])\n",
    "    \n",
    "valid_rating_mean = np.mean(np.array(ratings_not_none))"
   ]
  },
  {
   "cell_type": "code",
   "execution_count": null,
   "id": "ba0a153f",
   "metadata": {},
   "outputs": [],
   "source": [
    "# Substitute missing and zero rating to mean by valid ratings\n",
    "def rating_missing_func(x) :\n",
    "  if pd.isnull(x) == True :\n",
    "    return valid_rating_mean\n",
    "  elif x == 0 :\n",
    "    return valid_rating_mean\n",
    "  else :\n",
    "    return x\n",
    "\n",
    "cus_ven_ratings[\"rating2\"] = cus_ven_ratings[\"rating\"].apply(rating_missing_func)\n",
    "cus_ven_ratings"
   ]
  },
  {
   "cell_type": "code",
   "execution_count": null,
   "id": "2cf28527",
   "metadata": {},
   "outputs": [],
   "source": [
    "cus_ven_ratings = cus_ven_ratings[['customer_id', 'vendor_id', 'rating2']]\n",
    "cus_ven_ratings.rename(columns={'rating2':'rating', 1:'customer_id_num'}, inplace=True)\n",
    "cus_ven_ratings"
   ]
  },
  {
   "cell_type": "code",
   "execution_count": null,
   "id": "578b71ed",
   "metadata": {},
   "outputs": [],
   "source": [
    "cus_ven_ratings_mean = cus_ven_ratings.groupby(['customer_id', 'vendor_id']).mean()\n",
    "cus_ven_ratings_mean"
   ]
  },
  {
   "cell_type": "code",
   "execution_count": null,
   "id": "24d95017",
   "metadata": {},
   "outputs": [],
   "source": [
    "# Making Full Matrix(Sparse Matrix)\n",
    "rating_full_matrix = df_cus_ven_ratings_mean.pivot(index='customer_id', columns='vendor_id', values='rating')\n",
    "rating_full_matrix"
   ]
  },
  {
   "cell_type": "code",
   "execution_count": null,
   "id": "2a2c5b01",
   "metadata": {},
   "outputs": [],
   "source": [
    "# Calculate Similarity all pair of customers from Full Matirx\n",
    "from sklearn.metrics.pairwise import cosine_similarity\n",
    "rating_matrix_dummy = rating_full_matrix.copy().fillna(0)\n",
    "\n",
    "customer_similarity = cosine_similarity(rating_matrix_dummy, rating_matrix_dummy)\n",
    "\n",
    "customer_similarity = pd.DataFrame(customer_similarity, index = rating_full_matrix.index, columns=rating_full_matrix.index)\n",
    "customer_similarity"
   ]
  },
  {
   "cell_type": "code",
   "execution_count": null,
   "id": "14e65c94",
   "metadata": {},
   "outputs": [],
   "source": [
    "def RMSE(y_true, y_pred):\n",
    "    return np.sqrt(np.mean((np.array(y_true) - np.array(y_pred))**2))"
   ]
  },
  {
   "cell_type": "code",
   "execution_count": null,
   "id": "d7248667",
   "metadata": {},
   "outputs": [],
   "source": [
    "# Function which apply RMSE to CF model\n",
    "def knn_score(model, neigbor_size=0) :\n",
    "  id_pairs = zip(df_cus_ven_ratings_mean['customer_id'], df_cus_ven_ratings_mean['vendor_id'])\n",
    "  y_pred = np.array([model(customer, vendor, neigbor_size) for (customer, vendor) in id_pairs])\n",
    "  y_true = np.array(df_cus_ven_ratings_mean['rating'])\n",
    "  return RMSE(y_true, y_pred)"
   ]
  },
  {
   "cell_type": "code",
   "execution_count": null,
   "id": "964010bc",
   "metadata": {},
   "outputs": [],
   "source": [
    "def cf_knn(customer_id, vendor_id, neighbor_size=0):\n",
    "    if vendor_id in rating_full_matrix:\n",
    "        # Similarity of inputted customer and other customer\n",
    "        sim_scores = customer_similarity[customer_id].copy()\n",
    "        # Ratings by all customers for inputted vendor(restaurant)\n",
    "        vendor_ratings = rating_full_matrix[vendor_id].copy()\n",
    "        # Index of customers who are not rate inputted vendor\n",
    "        none_rating_idx = vendor_ratings[vendor_ratings.isnull()].index\n",
    "        # Exception rating(null) which of customers who are not rate inputted vendor\n",
    "        vendor_ratings = vendor_ratings.drop(none_rating_idx)\n",
    "        # Exception similarity which of customers who are not rate inputted vendor\n",
    "        sim_scores = sim_scores.drop(none_rating_idx)\n",
    "   \n",
    "        # Case that neighbor size is not specified\n",
    "        if neighbor_size == 0:          \n",
    "            # Weighted mean of ratings by customers who rate inputted vendor\n",
    "            mean_rating = np.dot(sim_scores, vendor_ratings) / sim_scores.sum()\n",
    "\n",
    "        # Case that neighbor size is specified\n",
    "        else:                       \n",
    "            # Case that 2 or more people rate inputted vendor\n",
    "            if len(sim_scores) > 1: \n",
    "                # Minimum value among inputted neighbor size and number of customers who rate inputted vendor\n",
    "                neighbor_size = min(neighbor_size, len(sim_scores))\n",
    "                # transpose to Numpy array for using argsort\n",
    "                sim_scores = np.array(sim_scores)\n",
    "                vendor_ratings = np.array(vendor_ratings)\n",
    "                # Sorting similarity\n",
    "                customer_idx = np.argsort(sim_scores)\n",
    "                # Similarity as much as neighbor size\n",
    "                sim_scores = sim_scores[customer_idx][-neighbor_size:]\n",
    "                # Ratings as much as neighbor size\n",
    "                vendor_ratings = vendor_ratings[customer_idx][-neighbor_size:]\n",
    "                # Caculate final predicted ranting\n",
    "                mean_rating = np.dot(sim_scores, vendor_ratings) / sim_scores.sum()\n",
    "            else:\n",
    "                # Substitute to valid mean in other case\n",
    "                mean_rating = valid_rating_mean\n",
    "    else:\n",
    "        # Substitute to valid mean in other case\n",
    "        mean_rating = valid_rating_mean\n",
    "    return mean_rating "
   ]
  },
  {
   "cell_type": "code",
   "execution_count": null,
   "id": "e240cc69",
   "metadata": {},
   "outputs": [],
   "source": [
    "knn_score(cf_knn, neigbor_size=20)"
   ]
  },
  {
   "cell_type": "code",
   "execution_count": null,
   "id": "b4451e05",
   "metadata": {},
   "outputs": [],
   "source": [
    "# Function which present recommendation list for certain customer by CF\n",
    "def cf_recom_vendor(customer_id, n_items, neighbor_size=0):\n",
    "    # Vendors which rated by inputted customer\n",
    "    customer_vendor = rating_full_matrix.loc[customer_id].copy()\n",
    "    \n",
    "    for vendor in rating_full_matrix:\n",
    "        # Excepton vendors which already rated by inputted customer\n",
    "        if pd.notnull(customer_vendor.loc[vendor]):\n",
    "            customer_vendor.loc[vendor] = 0\n",
    "        # Calculate predicted rating about vendors which is not rated by inputted customer\n",
    "        else:\n",
    "            customer_vendor.loc[vendor] = cf_knn(customer_id, vendor, neighbor_size)\n",
    "    \n",
    "    # Sort vendors by predictted rating\n",
    "    vendor_sort = customer_vendor.sort_values(ascending=False)[:n_items]\n",
    "    recom_vendors_temp = df1_train_for_anal.loc[vendor_sort.index]\n",
    "    recom_vendors_temp2 = recom_vendors_temp[['vendor_id', 'mean_rating', 'vendor_tag_name']]\n",
    "    recom_vendors = recom_vendors_temp2.reset_index(drop=True)\n",
    "    return recom_vendors"
   ]
  },
  {
   "cell_type": "markdown",
   "id": "ed95566e",
   "metadata": {},
   "source": [
    "# Gradient decent"
   ]
  },
  {
   "cell_type": "code",
   "execution_count": null,
   "id": "8b308403",
   "metadata": {},
   "outputs": [],
   "source": [
    "# from sklearn.metrics.pairwise import cosine_similarity\n",
    "# from scipy.optimize import minimize\n",
    " \n",
    "# class collaborative_filtering():\n",
    " \n",
    "#     def __init__(self, num_features=2, regularization_param=0, max_iter= 500, random_state= None):\n",
    "#         self.num_features = num_features\n",
    "#         self.regularization_param = regularization_param\n",
    "#         self.max_iter = max_iter\n",
    "#         self.random_state = random_state\n",
    " \n",
    "#     def initialize_thetas(self, rows, cols):\n",
    "#         #Initializes the parameters between 0 and 1 and unrolls them into a 1 dimenional vector\n",
    "\n",
    "#         np.random.seed(self.random_state)\n",
    "#         thetas1 = np.random.rand(rows, self.num_features) # X\n",
    " \n",
    "#         np.random.seed(self.random_state)\n",
    "#         thetas2 = np.random.rand(self.num_features, cols) # theta\n",
    "        \n",
    "#         self.thetas = np.concatenate((thetas1.flatten(), thetas2.flatten()))\n",
    " \n",
    "#     def reshape_thetas(self, thetas, rows, cols):\n",
    "#         thetas1 = thetas[:rows * self.num_features].reshape(rows, self.num_features)\n",
    "#         thetas2 = thetas[rows * self.num_features:].reshape(self.num_features, cols)\n",
    "#         return thetas1, thetas2\n",
    " \n",
    "#     def gradient(self, thetas, Y, R):\n",
    "#         #calculates the partial derivatives\n",
    "#         rows, cols = Y.shape\n",
    "#         thetas1, thetas2 = self.reshape_thetas(thetas, rows, cols)\n",
    " \n",
    "#         predictions = np.matmul(thetas1, thetas2)\n",
    "#         prediction_error = (predictions - Y) * R\n",
    " \n",
    "#         thetas1_gradient = np.matmul(prediction_error, thetas2.T)\n",
    "#         thetas2_gradient = np.matmul(prediction_error.T, thetas1).T\n",
    " \n",
    "#         if self.regularization_param > 0:\n",
    "#             thetas1_gradient += thetas1 * self.regularization_param\n",
    "#             thetas2_gradient += thetas2 * self.regularization_param\n",
    " \n",
    "#         return np.concatenate((thetas1_gradient.flatten(), thetas2_gradient.flatten()))\n",
    " \n",
    "#     def cost(self, thetas, Y, R):\n",
    "#         #cost function\n",
    "#         rows, cols = Y.shape\n",
    "#         thetas1, thetas2 = self.reshape_thetas(thetas, rows, cols)\n",
    " \n",
    "#         # calculate predictions\n",
    "#         predictions = np.matmul(thetas1, thetas2)\n",
    " \n",
    "#         # square errors\n",
    "#         mse = np.power(predictions - Y, 2)\n",
    " \n",
    "#         # Only use those is rated\n",
    "#         relevant_mse = np.sum(mse * R)\n",
    " \n",
    "#         # add regularization if provided\n",
    "#         if self.regularization_param > 0:\n",
    "#             relevant_mse += self.regularization_param * np.sum(np.power(thetas, 2))\n",
    " \n",
    "#         relevant_mse *= 0.5\n",
    "#         return relevant_mse\n",
    "#     def minimize(self):\n",
    "#         for _ in range(self.max_iter):\n",
    "#             cost = self.cost(self.thetas, self._Y, self._R)\n",
    "#             self.thetas = self.gradient(self.thetas, self._Y, self._R)\n",
    "#     def fit(self, Y, R):\n",
    "\n",
    "#         self._R = R\n",
    "#         self._Y = Y\n",
    " \n",
    "#         # initialize thetas values\n",
    "#         self._rows, self._cols = Y.shape\n",
    "#         self.initialize_thetas(self._rows, self._cols)\n",
    " \n",
    "#         # store the means for each row, take into account only values for which R = 1\n",
    "#         self._means = np.nanmean(np.where(R, Y, np.nan), axis=1, keepdims=True)\n",
    " \n",
    "#         normalized_Y = np.where(R, Y - self._means, 0)\n",
    " \n",
    "#         # optimize\n",
    "#         optimized = minimize(fun=self.cost, x0=self.thetas, args=(normalized_Y, R), method='TNC', jac=self.gradient, options={'maxiter':self.max_iter, 'disp':True})\n",
    "#         self._thetas = optimized.x\n",
    " \n",
    "#     def predict(self, iid, uid):\n",
    "#         thetas1, thetas2 = self.reshape_thetas(self.thetas, self._rows, self._cols)\n",
    "#         return np.matmul(thetas1[iid, :], thetas2[:, uid]) + self._means[iid]\n",
    "    \n",
    "#     def recommended_items(self, uid):\n",
    "#         # reshape thetas\n",
    "#         thetas1, thetas2 = self.reshape_thetas(self._thetas, self._rows, self._cols)\n",
    " \n",
    "#         # predict ratings for the ith user\n",
    "#         predictions = np.where(self._R[:, [uid]], np.nan, np.matmul(thetas1, thetas2[:, [uid]]) + self._means)\n",
    " \n",
    "#         # total number of items user has not rated\n",
    "#         total_user_unrated_items = np.sum(self._R[:, uid] == 0)\n",
    " \n",
    "#         return np.argsort(-predictions, axis=0)[:total_user_unrated_items]\n",
    "    \n",
    "#     def compute_similarities(self, users_items = 0):\n",
    "#         #computes the cosine similarities matrix of either users or items\n",
    "#         # reshape thetas\n",
    "#         thetas1, thetas2 = self._reshape_thetas(self._thetas, self._rows, self._cols)\n",
    "        \n",
    "#         #0 return user-item CF, 1 return item-item CF\n",
    "#         if users_items == 0:\n",
    "#             return cosine_similarity(thetas1)\n",
    "#         elif users_items == 1:\n",
    "#             return cosine_similarity(thetas2.T)\n",
    "#         else:\n",
    "\n",
    "#             raise ValueError('users_items must be either 0 (items) or 1 (users)')"
   ]
  },
  {
   "cell_type": "code",
   "execution_count": null,
   "id": "a97877bf",
   "metadata": {},
   "outputs": [],
   "source": [
    "# dataset1 = data1[['customer_id','id','vendor_rating']]\n",
    "# dataset1.rename(columns = {\"vendor_rating\": \"mean_rating\"}, inplace = True)\n",
    "\n",
    "# # Make derived variables 'all' with id and customer_id columns\n",
    "# cols = ['customer_id', 'id']\n",
    "# dataset1['all'] = dataset1[cols].apply(lambda row: '_'.join(row.values.astype(str)), axis=1)\n",
    "\n",
    "# dataset1.drop_duplicates(['all'],inplace=True)"
   ]
  },
  {
   "cell_type": "code",
   "execution_count": null,
   "id": "b5dc8b6c",
   "metadata": {},
   "outputs": [],
   "source": [
    "# dataset2 = data2[['akeed_order_id','customer_id','vendor_id','vendor_rating','is_rated']][:]\n",
    "# dataset2.rename(columns = {\"vendor_id\": \"id\"}, inplace = True)\n",
    "\n",
    "# # Make derived variables 'all' with id and customer_id columns\n",
    "# cols = ['customer_id', 'id']\n",
    "# dataset2['all'] = dataset2[cols].apply(lambda row: '_'.join(row.values.astype(str)), axis=1)\n",
    "\n",
    "# dataset2.head()"
   ]
  },
  {
   "cell_type": "code",
   "execution_count": null,
   "id": "792fd140",
   "metadata": {},
   "outputs": [],
   "source": [
    "# df2=pd.merge(dataset1,dataset2,on='all',how='inner')\n",
    "# df2.head()"
   ]
  },
  {
   "cell_type": "code",
   "execution_count": null,
   "id": "610759b2",
   "metadata": {},
   "outputs": [],
   "source": [
    "# df2.rename(columns = {\"customer_id_x\": \"customer_id\"}, inplace = True)\n",
    "# df2.rename(columns = {\"id_x\": \"vendor_id\"}, inplace = True)\n",
    "# df2.drop(['customer_id_y','id_y'],axis=1,inplace=True)\n",
    "# df2.rename(columns={'vendor_rating': 'rating'}, inplace=True)\n",
    "# df2_train_for_anal = df2[:]"
   ]
  },
  {
   "cell_type": "code",
   "execution_count": null,
   "id": "46fc4143",
   "metadata": {},
   "outputs": [],
   "source": [
    "# cus_ven_ratings2 = df2_train_for_anal[['customer_id', 'vendor_id', 'rating','is_rated']]\n",
    "# cus_ven_ratings2"
   ]
  },
  {
   "cell_type": "code",
   "execution_count": null,
   "id": "ac587b21",
   "metadata": {},
   "outputs": [],
   "source": [
    "# ratings_not_none = []\n",
    "\n",
    "# for i in range(0, cus_ven_ratings2.shape[0]-1) :\n",
    "#   if pd.isnull(cus_ven_ratings2.iloc[i][2]) == False and cus_ven_ratings2.iloc[i][2] != 0 :\n",
    "#     ratings_not_none.append(cus_ven_ratings2.iloc[i][2])\n",
    "    \n",
    "# valid_rating_mean = np.mean(np.array(ratings_not_none))\n",
    "# def rating_missing_func(x) :\n",
    "#   if pd.isnull(x) == True :\n",
    "#     return valid_rating_mean\n",
    "#   elif x == 0 :\n",
    "#     return valid_rating_mean\n",
    "#   else :\n",
    "#     return x\n",
    "# cus_ven_ratings2[\"rating2\"] = cus_ven_ratings2[\"rating\"].apply(rating_missing_func)\n",
    "# cus_ven_ratings2"
   ]
  },
  {
   "cell_type": "code",
   "execution_count": null,
   "id": "4b61cfdc",
   "metadata": {},
   "outputs": [],
   "source": [
    "# cus_ven_ratings2 = cus_ven_ratings2[['customer_id', 'vendor_id', 'rating2','is_rated']]\n",
    "# cus_ven_ratings2.rename(columns={'rating2':'rating', 1:'customer_id_num'}, inplace=True)\n",
    "# cus_ven_ratings2"
   ]
  },
  {
   "cell_type": "code",
   "execution_count": null,
   "id": "b308481e",
   "metadata": {},
   "outputs": [],
   "source": [
    "cus_ven_ratings_mean2 = cus_ven_ratings2.groupby(['customer_id', 'vendor_id']).mean()\n",
    "cus_ven_ratings_mean2"
   ]
  },
  {
   "cell_type": "code",
   "execution_count": null,
   "id": "5a5ab17e",
   "metadata": {},
   "outputs": [],
   "source": [
    "df_cus_ven_ratings_mean2 = cus_ven_ratings_mean2.reset_index()\n",
    "df_cus_ven_ratings_mean2"
   ]
  },
  {
   "cell_type": "code",
   "execution_count": null,
   "id": "72952923",
   "metadata": {},
   "outputs": [],
   "source": [
    "def is_rate(x):\n",
    "    if x == valid_rating_mean:\n",
    "        return 0\n",
    "    return 1\n",
    "df_cus_ven_ratings_mean2['is_rated'] = df_cus_ven_ratings_mean2['rating'].apply(is_rate)"
   ]
  },
  {
   "cell_type": "code",
   "execution_count": null,
   "id": "72f80378",
   "metadata": {},
   "outputs": [],
   "source": [
    "# Making Full Matrix(Sparse Matrix)\n",
    "Y_df = df_cus_ven_ratings_mean2.pivot(index='vendor_id', columns='customer_id', values='rating')\n",
    "Y = Y_df.copy().fillna(0)\n",
    "Y = Y.to_numpy()\n"
   ]
  },
  {
   "cell_type": "code",
   "execution_count": null,
   "id": "ae55d51a",
   "metadata": {},
   "outputs": [],
   "source": [
    "R_df= df_cus_ven_ratings_mean2.pivot(index='vendor_id', columns='customer_id', values='is_rated')\n",
    "R = R_df.copy().fillna(0)\n",
    "R = R.replace('Yes',1)\n",
    "R = R.replace('No',0)\n",
    "R = R.to_numpy()"
   ]
  },
  {
   "cell_type": "code",
   "execution_count": null,
   "id": "d89848b9",
   "metadata": {},
   "outputs": [],
   "source": [
    "model = collaborative_filtering(num_features = 10, regularization_param=5, max_iter=None, random_state=42)\n",
    "model.fit(Y, R)"
   ]
  },
  {
   "cell_type": "code",
   "execution_count": null,
   "id": "cf920b6c",
   "metadata": {},
   "outputs": [],
   "source": [
    "def knn_score2(model, neigbor_size=0) :\n",
    "  id_pairs = zip(Y.index, Y.columns)\n",
    "  y_pred = np.array([model.predict(customer, vendor) for (customer, vendor) in id_pairs])\n",
    "  y_true = np.array(df_cus_ven_ratings_mean2['rating'])\n",
    "  return RMSE(y_true, y_pred)"
   ]
  },
  {
   "cell_type": "code",
   "execution_count": null,
   "id": "a9b71b01",
   "metadata": {},
   "outputs": [],
   "source": [
    "np.array(df_cus_ven_ratings_mean2['rating'])"
   ]
  },
  {
   "cell_type": "code",
   "execution_count": null,
   "id": "eb97462a",
   "metadata": {},
   "outputs": [],
   "source": []
  },
  {
   "cell_type": "code",
   "execution_count": null,
   "id": "9f469315",
   "metadata": {},
   "outputs": [],
   "source": []
  }
 ],
 "metadata": {
  "kernelspec": {
   "display_name": "Python 3",
   "language": "python",
   "name": "python3"
  },
  "language_info": {
   "codemirror_mode": {
    "name": "ipython",
    "version": 3
   },
   "file_extension": ".py",
   "mimetype": "text/x-python",
   "name": "python",
   "nbconvert_exporter": "python",
   "pygments_lexer": "ipython3",
   "version": "3.8.8"
  }
 },
 "nbformat": 4,
 "nbformat_minor": 5
}
